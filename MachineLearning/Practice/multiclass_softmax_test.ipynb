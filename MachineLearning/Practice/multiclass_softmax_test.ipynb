{
  "nbformat": 4,
  "nbformat_minor": 0,
  "metadata": {
    "colab": {
      "provenance": []
    },
    "kernelspec": {
      "name": "python3",
      "display_name": "Python 3"
    },
    "language_info": {
      "name": "python"
    }
  },
  "cells": [
    {
      "cell_type": "code",
      "source": [
        "import numpy as np\n",
        "import tensorflow as tf\n",
        "from tensorflow.keras.models import Sequential\n",
        "from tensorflow.keras.layers import Dense\n",
        "from sklearn.datasets import make_blobs"
      ],
      "metadata": {
        "id": "WnQkFQM_40Xs"
      },
      "execution_count": 17,
      "outputs": []
    },
    {
      "cell_type": "code",
      "execution_count": 18,
      "metadata": {
        "id": "kppkGi-W4UxT"
      },
      "outputs": [],
      "source": [
        "centers = [[-5,2],[-2,-2],[1,2],[5,-2]]\n",
        "X_train, y_train = make_blobs(n_samples=2000, centers=centers, cluster_std=1.0,random_state=30) #Creates data points grouped around a number of cluster centers with Gaussian (normal) distribution."
      ]
    },
    {
      "cell_type": "code",
      "source": [
        "# Using basic approach\n",
        "model = Sequential( # Create model\n",
        "    [\n",
        "        Dense(25,activation = 'relu'), # hidden layers\n",
        "        Dense(15,activation = 'relu'),\n",
        "        Dense(4,activation = 'softmax') # output layer\n",
        "    ]\n",
        ")\n",
        "\n",
        "model.compile(loss = tf.keras.losses.SparseCategoricalCrossentropy(), optimizer = tf.keras.optimizers.Adam())\n",
        "model.fit(X_train,y_train, epochs = 10)\n",
        "\n",
        "\n"
      ],
      "metadata": {
        "colab": {
          "base_uri": "https://localhost:8080/"
        },
        "id": "otkPSDkh5FUV",
        "outputId": "63cf7e14-2019-4396-aab9-bef8aa7ed0c9"
      },
      "execution_count": 19,
      "outputs": [
        {
          "output_type": "stream",
          "name": "stdout",
          "text": [
            "Epoch 1/10\n",
            "\u001b[1m63/63\u001b[0m \u001b[32m━━━━━━━━━━━━━━━━━━━━\u001b[0m\u001b[37m\u001b[0m \u001b[1m1s\u001b[0m 1ms/step - loss: 1.9022\n",
            "Epoch 2/10\n",
            "\u001b[1m63/63\u001b[0m \u001b[32m━━━━━━━━━━━━━━━━━━━━\u001b[0m\u001b[37m\u001b[0m \u001b[1m0s\u001b[0m 1ms/step - loss: 0.7853\n",
            "Epoch 3/10\n",
            "\u001b[1m63/63\u001b[0m \u001b[32m━━━━━━━━━━━━━━━━━━━━\u001b[0m\u001b[37m\u001b[0m \u001b[1m0s\u001b[0m 1ms/step - loss: 0.3121\n",
            "Epoch 4/10\n",
            "\u001b[1m63/63\u001b[0m \u001b[32m━━━━━━━━━━━━━━━━━━━━\u001b[0m\u001b[37m\u001b[0m \u001b[1m0s\u001b[0m 1ms/step - loss: 0.1617\n",
            "Epoch 5/10\n",
            "\u001b[1m63/63\u001b[0m \u001b[32m━━━━━━━━━━━━━━━━━━━━\u001b[0m\u001b[37m\u001b[0m \u001b[1m0s\u001b[0m 1ms/step - loss: 0.1037\n",
            "Epoch 6/10\n",
            "\u001b[1m63/63\u001b[0m \u001b[32m━━━━━━━━━━━━━━━━━━━━\u001b[0m\u001b[37m\u001b[0m \u001b[1m0s\u001b[0m 1ms/step - loss: 0.0806\n",
            "Epoch 7/10\n",
            "\u001b[1m63/63\u001b[0m \u001b[32m━━━━━━━━━━━━━━━━━━━━\u001b[0m\u001b[37m\u001b[0m \u001b[1m0s\u001b[0m 1ms/step - loss: 0.0679\n",
            "Epoch 8/10\n",
            "\u001b[1m63/63\u001b[0m \u001b[32m━━━━━━━━━━━━━━━━━━━━\u001b[0m\u001b[37m\u001b[0m \u001b[1m0s\u001b[0m 1ms/step - loss: 0.0562\n",
            "Epoch 9/10\n",
            "\u001b[1m63/63\u001b[0m \u001b[32m━━━━━━━━━━━━━━━━━━━━\u001b[0m\u001b[37m\u001b[0m \u001b[1m0s\u001b[0m 1ms/step - loss: 0.0506\n",
            "Epoch 10/10\n",
            "\u001b[1m63/63\u001b[0m \u001b[32m━━━━━━━━━━━━━━━━━━━━\u001b[0m\u001b[37m\u001b[0m \u001b[1m0s\u001b[0m 1ms/step - loss: 0.0419\n"
          ]
        },
        {
          "output_type": "execute_result",
          "data": {
            "text/plain": [
              "<keras.src.callbacks.history.History at 0x78737ca2f910>"
            ]
          },
          "metadata": {},
          "execution_count": 19
        }
      ]
    },
    {
      "cell_type": "code",
      "source": [
        "p_nonpreferred = model.predict(X_train)\n",
        "print(p_nonpreferred [:2])\n",
        "print(\"largest value\", np.max(p_nonpreferred), \"smallest value\", np.min(p_nonpreferred))"
      ],
      "metadata": {
        "colab": {
          "base_uri": "https://localhost:8080/"
        },
        "id": "laQOdsEq6k1O",
        "outputId": "e709ee61-8cc3-4322-c723-977b0643a701"
      },
      "execution_count": 21,
      "outputs": [
        {
          "output_type": "stream",
          "name": "stdout",
          "text": [
            "\u001b[1m63/63\u001b[0m \u001b[32m━━━━━━━━━━━━━━━━━━━━\u001b[0m\u001b[37m\u001b[0m \u001b[1m0s\u001b[0m 1ms/step\n",
            "[[6.9962293e-03 3.0204621e-03 9.6919930e-01 2.0783920e-02]\n",
            " [9.9143165e-01 7.9613142e-03 6.0103292e-04 6.0274574e-06]]\n",
            "largest value 0.99999815 smallest value 5.452639e-09\n"
          ]
        }
      ]
    },
    {
      "cell_type": "code",
      "source": [
        "# Using linear activation method to lessen numerical deviation due to floating points\n",
        "\n",
        "preferred_model = Sequential(\n",
        "    [\n",
        "        Dense(25,activation = 'relu'),\n",
        "        Dense(15,activation = 'relu'),\n",
        "        Dense(4,activation = 'linear')\n",
        "    ]\n",
        ")\n",
        "\n",
        "preferred_model.compile(loss = tf.keras.losses.SparseCategoricalCrossentropy(), optimizer = tf.keras.optimizers.Adam())\n",
        "preferred_model.fit(X_train,y_train,epochs = 10)\n"
      ],
      "metadata": {
        "colab": {
          "base_uri": "https://localhost:8080/"
        },
        "id": "UELQb5Im6rSX",
        "outputId": "6eeecea6-87c9-462c-94ba-2ba083b772a1"
      },
      "execution_count": 22,
      "outputs": [
        {
          "output_type": "stream",
          "name": "stdout",
          "text": [
            "Epoch 1/10\n",
            "\u001b[1m63/63\u001b[0m \u001b[32m━━━━━━━━━━━━━━━━━━━━\u001b[0m\u001b[37m\u001b[0m \u001b[1m1s\u001b[0m 1ms/step - loss: 5.3630\n",
            "Epoch 2/10\n",
            "\u001b[1m63/63\u001b[0m \u001b[32m━━━━━━━━━━━━━━━━━━━━\u001b[0m\u001b[37m\u001b[0m \u001b[1m0s\u001b[0m 1ms/step - loss: 1.2387\n",
            "Epoch 3/10\n",
            "\u001b[1m63/63\u001b[0m \u001b[32m━━━━━━━━━━━━━━━━━━━━\u001b[0m\u001b[37m\u001b[0m \u001b[1m0s\u001b[0m 1ms/step - loss: 1.2379\n",
            "Epoch 4/10\n",
            "\u001b[1m63/63\u001b[0m \u001b[32m━━━━━━━━━━━━━━━━━━━━\u001b[0m\u001b[37m\u001b[0m \u001b[1m0s\u001b[0m 1ms/step - loss: 1.2289\n",
            "Epoch 5/10\n",
            "\u001b[1m63/63\u001b[0m \u001b[32m━━━━━━━━━━━━━━━━━━━━\u001b[0m\u001b[37m\u001b[0m \u001b[1m0s\u001b[0m 1ms/step - loss: 1.1726\n",
            "Epoch 6/10\n",
            "\u001b[1m63/63\u001b[0m \u001b[32m━━━━━━━━━━━━━━━━━━━━\u001b[0m\u001b[37m\u001b[0m \u001b[1m0s\u001b[0m 1ms/step - loss: 1.1600\n",
            "Epoch 7/10\n",
            "\u001b[1m63/63\u001b[0m \u001b[32m━━━━━━━━━━━━━━━━━━━━\u001b[0m\u001b[37m\u001b[0m \u001b[1m0s\u001b[0m 1ms/step - loss: 1.1200\n",
            "Epoch 8/10\n",
            "\u001b[1m63/63\u001b[0m \u001b[32m━━━━━━━━━━━━━━━━━━━━\u001b[0m\u001b[37m\u001b[0m \u001b[1m0s\u001b[0m 1ms/step - loss: 1.1044\n",
            "Epoch 9/10\n",
            "\u001b[1m63/63\u001b[0m \u001b[32m━━━━━━━━━━━━━━━━━━━━\u001b[0m\u001b[37m\u001b[0m \u001b[1m0s\u001b[0m 1ms/step - loss: 1.1763\n",
            "Epoch 10/10\n",
            "\u001b[1m63/63\u001b[0m \u001b[32m━━━━━━━━━━━━━━━━━━━━\u001b[0m\u001b[37m\u001b[0m \u001b[1m0s\u001b[0m 2ms/step - loss: 1.0874\n"
          ]
        },
        {
          "output_type": "execute_result",
          "data": {
            "text/plain": [
              "<keras.src.callbacks.history.History at 0x78736fd734c0>"
            ]
          },
          "metadata": {},
          "execution_count": 22
        }
      ]
    },
    {
      "cell_type": "code",
      "source": [
        "# Must send this version through a softmax because we recieve numbers instead of probablity for our values\n",
        "p_preferred = preferred_model.predict(X_train)\n",
        "print(f\"two example output vectors:\\n {p_preferred[:2]}\")\n",
        "print(\"largest value\", np.max(p_preferred), \"smallest value\", np.min(p_preferred))\n",
        "\n",
        "# Now we actually send it through a softmax\n",
        "sm_preferred = tf.nn.softmax(p_preferred).numpy()\n",
        "print(f\"two example output vectors:\\n {sm_preferred[:2]}\")\n",
        "print(\"largest value\", np.max(sm_preferred), \"smallest value\", np.min(sm_preferred))"
      ],
      "metadata": {
        "colab": {
          "base_uri": "https://localhost:8080/"
        },
        "id": "DU5KkFuB7i-R",
        "outputId": "6c36bde1-81d2-4a10-9ddb-243de0ea8eb9"
      },
      "execution_count": 23,
      "outputs": [
        {
          "output_type": "stream",
          "name": "stdout",
          "text": [
            "\u001b[1m63/63\u001b[0m \u001b[32m━━━━━━━━━━━━━━━━━━━━\u001b[0m\u001b[37m\u001b[0m \u001b[1m0s\u001b[0m 2ms/step\n",
            "two example output vectors:\n",
            " [[-0.43425214 -0.45135114 -0.74609387 -0.4925706 ]\n",
            " [-0.92744195 -0.5667276  -0.76207674 -1.8340701 ]]\n",
            "largest value 0.4028529 smallest value -3.5123703\n",
            "two example output vectors:\n",
            " [[0.27333662 0.26870257 0.20010902 0.25785193]\n",
            " [0.24887626 0.3569766  0.29363018 0.10051708]]\n",
            "largest value 0.53983915 smallest value 0.044836994\n"
          ]
        }
      ]
    },
    {
      "cell_type": "code",
      "source": [
        "# Select the most likely cateogry using np.argmax\n",
        "\n",
        "for i in range(10):\n",
        "    print( f\"{p_preferred[i]}, category: {np.argmax(p_preferred[i])}\")"
      ],
      "metadata": {
        "colab": {
          "base_uri": "https://localhost:8080/"
        },
        "id": "IXezcRDP8bP4",
        "outputId": "5f2923fc-97c1-4c44-917c-337606516bf7"
      },
      "execution_count": 24,
      "outputs": [
        {
          "output_type": "stream",
          "name": "stdout",
          "text": [
            "[-0.43425214 -0.45135114 -0.74609387 -0.4925706 ], category: 0\n",
            "[-0.92744195 -0.5667276  -0.76207674 -1.8340701 ], category: 1\n",
            "[-0.70841503 -0.45065448 -0.61833626 -1.4073251 ], category: 1\n",
            "[-0.41255277  0.08262073 -0.24769172 -0.26607084], category: 1\n",
            "[-0.6687454 -1.0726736 -1.0486357 -1.3427936], category: 0\n",
            "[-0.37274617 -0.6136846  -0.85777664 -0.56558806], category: 0\n",
            "[-0.53562725  0.02696533 -0.35257933 -0.23563902], category: 1\n",
            "[-1.0670258  -0.77977276 -0.89167464 -2.2328188 ], category: 1\n",
            "[-0.48395655  0.1156655  -0.25879064 -0.31407252], category: 1\n",
            "[-0.8474314 -0.6085786 -0.9147182 -0.6854592], category: 1\n"
          ]
        }
      ]
    }
  ]
}

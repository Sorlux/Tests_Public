{
  "nbformat": 4,
  "nbformat_minor": 0,
  "metadata": {
    "colab": {
      "provenance": []
    },
    "kernelspec": {
      "name": "python3",
      "display_name": "Python 3"
    },
    "language_info": {
      "name": "python"
    }
  },
  "cells": [
    {
      "cell_type": "markdown",
      "source": [
        "# Introduction\n",
        "\n",
        "Building an AI pipeline to train a model on the Wine Quality dataset from the UC Irvine Machine Learning Repository. Purpose is to use the features defined in the database to predict the quality of  "
      ],
      "metadata": {
        "id": "wdde8Gca-0Ym"
      }
    },
    {
      "cell_type": "code",
      "source": [
        "pip install ucimlrepo\n",
        "pip install scikit-learn"
      ],
      "metadata": {
        "colab": {
          "base_uri": "https://localhost:8080/"
        },
        "id": "KTbOuMFNwszC",
        "outputId": "754e2eef-08d2-4f20-d1d9-ec4c4dfaea83"
      },
      "execution_count": 1,
      "outputs": [
        {
          "output_type": "stream",
          "name": "stdout",
          "text": [
            "Collecting ucimlrepo\n",
            "  Downloading ucimlrepo-0.0.7-py3-none-any.whl.metadata (5.5 kB)\n",
            "Requirement already satisfied: pandas>=1.0.0 in /usr/local/lib/python3.10/dist-packages (from ucimlrepo) (2.2.2)\n",
            "Requirement already satisfied: certifi>=2020.12.5 in /usr/local/lib/python3.10/dist-packages (from ucimlrepo) (2024.8.30)\n",
            "Requirement already satisfied: numpy>=1.22.4 in /usr/local/lib/python3.10/dist-packages (from pandas>=1.0.0->ucimlrepo) (1.26.4)\n",
            "Requirement already satisfied: python-dateutil>=2.8.2 in /usr/local/lib/python3.10/dist-packages (from pandas>=1.0.0->ucimlrepo) (2.8.2)\n",
            "Requirement already satisfied: pytz>=2020.1 in /usr/local/lib/python3.10/dist-packages (from pandas>=1.0.0->ucimlrepo) (2024.2)\n",
            "Requirement already satisfied: tzdata>=2022.7 in /usr/local/lib/python3.10/dist-packages (from pandas>=1.0.0->ucimlrepo) (2024.2)\n",
            "Requirement already satisfied: six>=1.5 in /usr/local/lib/python3.10/dist-packages (from python-dateutil>=2.8.2->pandas>=1.0.0->ucimlrepo) (1.16.0)\n",
            "Downloading ucimlrepo-0.0.7-py3-none-any.whl (8.0 kB)\n",
            "Installing collected packages: ucimlrepo\n",
            "Successfully installed ucimlrepo-0.0.7\n"
          ]
        }
      ]
    },
    {
      "cell_type": "markdown",
      "source": [
        "# Dataset Overview:\n",
        "\n",
        "First the data was fetched from the datavase and split into the features and target values. There are 6497 data points with 11 features determining quality with a value between 3 and 9."
      ],
      "metadata": {
        "id": "vXtXYu4wBHzh"
      }
    },
    {
      "cell_type": "code",
      "execution_count": 47,
      "metadata": {
        "colab": {
          "base_uri": "https://localhost:8080/"
        },
        "id": "VfMyf9iNtfPH",
        "outputId": "346e0204-d887-45b5-9b9e-99ddcda12828"
      },
      "outputs": [
        {
          "output_type": "stream",
          "name": "stdout",
          "text": [
            "(6497, 11)\n",
            "(6497,)\n",
            "Index(['fixed_acidity', 'volatile_acidity', 'citric_acid', 'residual_sugar',\n",
            "       'chlorides', 'free_sulfur_dioxide', 'total_sulfur_dioxide', 'density',\n",
            "       'pH', 'sulphates', 'alcohol'],\n",
            "      dtype='object')\n",
            " The first few rows of features:\n",
            "   fixed_acidity  volatile_acidity  citric_acid  residual_sugar  chlorides  \\\n",
            "0            7.4              0.70         0.00             1.9      0.076   \n",
            "1            7.8              0.88         0.00             2.6      0.098   \n",
            "2            7.8              0.76         0.04             2.3      0.092   \n",
            "3           11.2              0.28         0.56             1.9      0.075   \n",
            "4            7.4              0.70         0.00             1.9      0.076   \n",
            "\n",
            "   free_sulfur_dioxide  total_sulfur_dioxide  density    pH  sulphates  \\\n",
            "0                 11.0                  34.0   0.9978  3.51       0.56   \n",
            "1                 25.0                  67.0   0.9968  3.20       0.68   \n",
            "2                 15.0                  54.0   0.9970  3.26       0.65   \n",
            "3                 17.0                  60.0   0.9980  3.16       0.58   \n",
            "4                 11.0                  34.0   0.9978  3.51       0.56   \n",
            "\n",
            "   alcohol  \n",
            "0      9.4  \n",
            "1      9.8  \n",
            "2      9.8  \n",
            "3      9.8  \n",
            "4      9.4  \n",
            " The first few rows of target values:\n",
            "0    5\n",
            "1    5\n",
            "2    5\n",
            "3    6\n",
            "4    5\n",
            "Name: quality, dtype: int64\n"
          ]
        }
      ],
      "source": [
        "from ucimlrepo import fetch_ucirepo\n",
        "import pandas as pd\n",
        "import numpy as np\n",
        "from sklearn.model_selection import train_test_split\n",
        "import matplotlib.pyplot as plt\n",
        "\n",
        "# Fetch dataset\n",
        "wine_quality = fetch_ucirepo(id=186)\n",
        "\n",
        "# Separate the features and target values\n",
        "X = wine_quality.data.features\n",
        "y = wine_quality.data.targets\n",
        "y = y['quality']\n",
        "\n",
        "# 11 features with 6497 instances\n",
        "print(X.shape)\n",
        "print(y.shape)\n",
        "print(X.columns)\n",
        "\n",
        "\n",
        "print(' The first few rows of features:')\n",
        "print(X.head())\n",
        "print(' The first few rows of target values:')\n",
        "print(y.head())"
      ]
    },
    {
      "cell_type": "code",
      "source": [
        "print(f\" The max value for quality is: {np.max(y)}\")\n",
        "print(f\" The max value for quality is: {np.min(y)}\")"
      ],
      "metadata": {
        "id": "mz1qaah3wZmz",
        "colab": {
          "base_uri": "https://localhost:8080/"
        },
        "outputId": "625c7893-21da-4cce-9ec8-aea6be672298"
      },
      "execution_count": 48,
      "outputs": [
        {
          "output_type": "stream",
          "name": "stdout",
          "text": [
            " The max value for quality is: 9\n",
            " The max value for quality is: 3\n"
          ]
        }
      ]
    },
    {
      "cell_type": "code",
      "source": [
        "# Splitting the dataset in training and teting sets\n",
        "XTrain, XTest, yTrain, yTest = train_test_split(X,y,stratify = y, test_size = 0.1, random_state= 20)"
      ],
      "metadata": {
        "id": "uUBrAb0GQEON"
      },
      "execution_count": 49,
      "outputs": []
    },
    {
      "cell_type": "markdown",
      "source": [
        "# Pipeline\n",
        "\n",
        "The model was trained using a KNeghibors classifier to make prediction for the quality. Preprocessing steps included mean imputation for missing values and normalizing the features. The database does confirm that there are no missing values, but for good practices, I included the imputation function."
      ],
      "metadata": {
        "id": "WmeKFYOTBe65"
      }
    },
    {
      "cell_type": "code",
      "source": [
        "from sklearn.impute import SimpleImputer\n",
        "from sklearn.preprocessing import MinMaxScaler\n",
        "from sklearn.neighbors import KNeighborsClassifier\n",
        "from sklearn.metrics import classification_report\n",
        "from sklearn.pipeline import make_pipeline\n",
        "\n",
        "pipe = make_pipeline(\n",
        "    SimpleImputer(strategy = 'mean'),\n",
        "    MinMaxScaler(),\n",
        "    KNeighborsClassifier(n_neighbors = 3)\n",
        ")\n",
        "\n",
        "pipe.fit(XTrain,yTrain)\n",
        "yPred = pipe.predict(XTest)\n",
        "report = classification_report(yTest,yPred)\n",
        "print(report)\n"
      ],
      "metadata": {
        "id": "JlXjKvVzgCXB",
        "colab": {
          "base_uri": "https://localhost:8080/"
        },
        "outputId": "0cf62370-0eae-4ce8-8788-59dd4ded7fc3"
      },
      "execution_count": 50,
      "outputs": [
        {
          "output_type": "stream",
          "name": "stdout",
          "text": [
            "              precision    recall  f1-score   support\n",
            "\n",
            "           3       0.00      0.00      0.00         3\n",
            "           4       0.13      0.09      0.11        22\n",
            "           5       0.58      0.66      0.62       214\n",
            "           6       0.60      0.61      0.60       284\n",
            "           7       0.59      0.47      0.53       108\n",
            "           8       0.50      0.26      0.34        19\n",
            "\n",
            "    accuracy                           0.57       650\n",
            "   macro avg       0.40      0.35      0.37       650\n",
            "weighted avg       0.57      0.57      0.57       650\n",
            "\n"
          ]
        }
      ]
    },
    {
      "cell_type": "markdown",
      "source": [
        "# Discussion\n",
        "\n",
        "I tried different values of k to see if this would improve the model but it seems that the KNeighbors algorithm is ineffective at predicting the quality without further adjustment such as SMOTE for oversampling. I will implement SMOTE to see if this helps the algorithm, and will also try an alternative method of random forests to copmare and constrast the two models for this database."
      ],
      "metadata": {
        "id": "cWw6ENPlCK-m"
      }
    }
  ]
}